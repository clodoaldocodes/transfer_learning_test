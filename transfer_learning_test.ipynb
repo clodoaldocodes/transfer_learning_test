{
  "nbformat": 4,
  "nbformat_minor": 0,
  "metadata": {
    "colab": {
      "provenance": [],
      "gpuType": "T4"
    },
    "kernelspec": {
      "name": "python3",
      "display_name": "Python 3"
    },
    "language_info": {
      "name": "python"
    },
    "accelerator": "GPU"
  },
  "cells": [
    {
      "cell_type": "code",
      "source": [
        "import numpy as np\n",
        "import pandas as pd\n",
        "import matplotlib.pyplot as plt\n",
        "import tensorflow as tf\n",
        "import tensorflow_datasets as tfds\n",
        "from tensorflow import keras\n",
        "from tensorflow.keras import layers\n",
        "from keras import callbacks"
      ],
      "metadata": {
        "id": "2xgyRnZ2_-8l"
      },
      "execution_count": 1,
      "outputs": []
    },
    {
      "cell_type": "code",
      "execution_count": 2,
      "metadata": {
        "id": "8DNxiz24_okq"
      },
      "outputs": [],
      "source": [
        "batch_size = 32\n",
        "img_height = 32\n",
        "img_width = 32\n",
        "\n",
        "IMG_SIZE = 32"
      ]
    },
    {
      "cell_type": "code",
      "source": [
        "(x_train, y_train), (x_test, y_test) = keras.datasets.cifar10.load_data()\n",
        "\n",
        "x_train = x_train/255\n",
        "x_test = x_test/255\n",
        "\n",
        "num_classes = np.size(np.unique(y_train))\n",
        "\n",
        "y_train = tf.keras.utils.to_categorical(y_train)\n",
        "y_test = tf.keras.utils.to_categorical(y_test)"
      ],
      "metadata": {
        "colab": {
          "base_uri": "https://localhost:8080/"
        },
        "id": "dnbwI8yLF5Ns",
        "outputId": "f021707f-9048-47ea-ce1b-65280dfa43c9"
      },
      "execution_count": 3,
      "outputs": [
        {
          "output_type": "stream",
          "name": "stdout",
          "text": [
            "Downloading data from https://www.cs.toronto.edu/~kriz/cifar-10-python.tar.gz\n",
            "170498071/170498071 [==============================] - 4s 0us/step\n"
          ]
        }
      ]
    },
    {
      "cell_type": "code",
      "source": [
        "base_model = keras.applications.MobileNet(\n",
        "                        include_top=False, # Exclude ImageNet classifier at the top\n",
        "                        weights='imagenet',\n",
        "                        input_shape=(IMG_SIZE, IMG_SIZE, 3)\n",
        "                        )\n",
        "\n",
        "# Freeze base_model\n",
        "base_model.trainable = False\n",
        "\n",
        "# Setup inputs based on input image shape\n",
        "inputs = keras.Input(shape=(IMG_SIZE, IMG_SIZE, 3))\n",
        "\n",
        "data_augmentation = keras.Sequential(\n",
        "                [layers.RandomFlip('horizontal')])\n",
        "\n",
        "x = data_augmentation(inputs)\n",
        "\n",
        "# Apply specific pre-processing function for ResNet v2\n",
        "x = keras.applications.mobilenet.preprocess_input(x)\n",
        "\n",
        "# Keep base model batch normalization layers in inference mode (instead of training mode)\n",
        "x = base_model(x, training=False)\n",
        "\n",
        "# Rebuild top layers\n",
        "x = layers.GlobalAveragePooling2D()(x) # Average pooling operation\n",
        "x = layers.BatchNormalization()(x) # Introduce batch norm\n",
        "x = layers.Dropout(0.2)(x)  # Regularize with dropout\n",
        "\n",
        "# Flattening to final layer - Dense classifier with 37 units (multi-class classification)\n",
        "outputs = layers.Dense(num_classes, activation='softmax')(x)\n",
        "\n",
        "# Instantiate final Keras model with updated inputs and outputs\n",
        "model = keras.Model(inputs, outputs)"
      ],
      "metadata": {
        "colab": {
          "base_uri": "https://localhost:8080/"
        },
        "id": "4GAnXoQPD9EN",
        "outputId": "bc3ba28a-1fd4-422d-b7f6-5549ba8e51f1"
      },
      "execution_count": 4,
      "outputs": [
        {
          "output_type": "stream",
          "name": "stdout",
          "text": [
            "17225924/17225924 [==============================] - 0s 0us/step\n"
          ]
        }
      ]
    },
    {
      "cell_type": "code",
      "source": [
        "model.compile(optimizer=keras.optimizers.Adam(),\n",
        "              loss=keras.losses.CategoricalCrossentropy(),\n",
        "              metrics=[keras.metrics.CategoricalAccuracy()]\n",
        "              )\n",
        "\n",
        "earlystopping = callbacks.EarlyStopping(monitor='val_loss',\n",
        "                                        mode='min',\n",
        "                                        patience=5,\n",
        "                                        restore_best_weights=True)\n",
        "\n",
        "EPOCHS = 25\n",
        "\n",
        "history = model.fit(x_train, y_train,\n",
        "                    epochs=EPOCHS,\n",
        "                    validation_data=(x_test, y_test),\n",
        "                    verbose=1,\n",
        "                    callbacks =[earlystopping])"
      ],
      "metadata": {
        "colab": {
          "base_uri": "https://localhost:8080/"
        },
        "id": "80QqYdF7EP-f",
        "outputId": "c22b0044-7650-4d36-dc29-863dbb8085e3"
      },
      "execution_count": null,
      "outputs": [
        {
          "output_type": "stream",
          "name": "stdout",
          "text": [
            "Epoch 1/25\n",
            "1563/1563 [==============================] - 22s 10ms/step - loss: 2.1815 - categorical_accuracy: 0.2054 - val_loss: 2.1202 - val_categorical_accuracy: 0.2447\n",
            "Epoch 2/25\n",
            "1563/1563 [==============================] - 15s 10ms/step - loss: 2.1576 - categorical_accuracy: 0.2180 - val_loss: 2.1168 - val_categorical_accuracy: 0.2470\n",
            "Epoch 3/25\n",
            "1563/1563 [==============================] - 12s 7ms/step - loss: 2.1566 - categorical_accuracy: 0.2176 - val_loss: 2.1141 - val_categorical_accuracy: 0.2458\n",
            "Epoch 4/25\n",
            "1563/1563 [==============================] - 13s 8ms/step - loss: 2.1542 - categorical_accuracy: 0.2162 - val_loss: 2.1149 - val_categorical_accuracy: 0.2502\n",
            "Epoch 5/25\n",
            "1563/1563 [==============================] - 12s 8ms/step - loss: 2.1555 - categorical_accuracy: 0.2174 - val_loss: 2.1130 - val_categorical_accuracy: 0.2548\n",
            "Epoch 6/25\n",
            "1563/1563 [==============================] - 12s 8ms/step - loss: 2.1528 - categorical_accuracy: 0.2200 - val_loss: 2.1140 - val_categorical_accuracy: 0.2447\n",
            "Epoch 7/25\n",
            " 539/1563 [=========>....................] - ETA: 6s - loss: 2.1609 - categorical_accuracy: 0.2168"
          ]
        }
      ]
    },
    {
      "cell_type": "code",
      "source": [
        "def plot_hist(hist):\n",
        "    plt.plot(hist.history['categorical_accuracy'])\n",
        "    plt.plot(hist.history['val_categorical_accuracy'])\n",
        "    plt.title('Categorical accuracy')\n",
        "    plt.ylabel('accuracy')\n",
        "    plt.xlabel('epoch')\n",
        "    plt.legend(['train', 'validation'], loc='upper left')\n",
        "    plt.show()\n",
        "\n",
        "plot_hist(history)"
      ],
      "metadata": {
        "id": "l6EFIhhdET8k"
      },
      "execution_count": null,
      "outputs": []
    }
  ]
}